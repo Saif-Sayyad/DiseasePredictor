{
  "nbformat": 4,
  "nbformat_minor": 0,
  "metadata": {
    "colab": {
      "provenance": [],
      "authorship_tag": "ABX9TyPKTqcR8x2JtqZLob8xl4g5",
      "include_colab_link": true
    },
    "kernelspec": {
      "name": "python3",
      "display_name": "Python 3"
    },
    "language_info": {
      "name": "python"
    }
  },
  "cells": [
    {
      "cell_type": "markdown",
      "metadata": {
        "id": "view-in-github",
        "colab_type": "text"
      },
      "source": [
        "<a href=\"https://colab.research.google.com/github/Saif-Sayyad/DiseasePredictor/blob/main/MyMLw_oFeatures.ipynb\" target=\"_parent\"><img src=\"https://colab.research.google.com/assets/colab-badge.svg\" alt=\"Open In Colab\"/></a>"
      ]
    },
    {
      "cell_type": "markdown",
      "source": [
        "Import Dataset, dataset.csv should be in files"
      ],
      "metadata": {
        "id": "1wM35bHjB1cx"
      }
    },
    {
      "cell_type": "code",
      "source": [
        "import pandas as pd\n",
        "\n",
        "df = pd.read_csv('dataset.csv')"
      ],
      "metadata": {
        "id": "5gufpskIVIQ7"
      },
      "execution_count": null,
      "outputs": []
    },
    {
      "cell_type": "markdown",
      "source": [
        "See the dataset"
      ],
      "metadata": {
        "id": "bK8BvxnOB-UE"
      }
    },
    {
      "cell_type": "code",
      "source": [
        "print(df.head())\n",
        "print(df.info())\n",
        "print(df.describe())"
      ],
      "metadata": {
        "colab": {
          "base_uri": "https://localhost:8080/"
        },
        "id": "ocJYcERuVKh7",
        "outputId": "4444e728-d63a-40db-83f6-04017a281686"
      },
      "execution_count": null,
      "outputs": [
        {
          "output_type": "stream",
          "name": "stdout",
          "text": [
            "            Disease   Symptom_1              Symptom_2              Symptom_3  \\\n",
            "0  Fungal infection     itching              skin_rash   nodal_skin_eruptions   \n",
            "1  Fungal infection   skin_rash   nodal_skin_eruptions    dischromic _patches   \n",
            "2  Fungal infection     itching   nodal_skin_eruptions    dischromic _patches   \n",
            "3  Fungal infection     itching              skin_rash    dischromic _patches   \n",
            "4  Fungal infection     itching              skin_rash   nodal_skin_eruptions   \n",
            "\n",
            "              Symptom_4 Symptom_5 Symptom_6 Symptom_7 Symptom_8 Symptom_9  \\\n",
            "0   dischromic _patches       NaN       NaN       NaN       NaN       NaN   \n",
            "1                   NaN       NaN       NaN       NaN       NaN       NaN   \n",
            "2                   NaN       NaN       NaN       NaN       NaN       NaN   \n",
            "3                   NaN       NaN       NaN       NaN       NaN       NaN   \n",
            "4                   NaN       NaN       NaN       NaN       NaN       NaN   \n",
            "\n",
            "  Symptom_10 Symptom_11 Symptom_12 Symptom_13 Symptom_14 Symptom_15  \\\n",
            "0        NaN        NaN        NaN        NaN        NaN        NaN   \n",
            "1        NaN        NaN        NaN        NaN        NaN        NaN   \n",
            "2        NaN        NaN        NaN        NaN        NaN        NaN   \n",
            "3        NaN        NaN        NaN        NaN        NaN        NaN   \n",
            "4        NaN        NaN        NaN        NaN        NaN        NaN   \n",
            "\n",
            "  Symptom_16 Symptom_17  \n",
            "0        NaN        NaN  \n",
            "1        NaN        NaN  \n",
            "2        NaN        NaN  \n",
            "3        NaN        NaN  \n",
            "4        NaN        NaN  \n",
            "<class 'pandas.core.frame.DataFrame'>\n",
            "RangeIndex: 4920 entries, 0 to 4919\n",
            "Data columns (total 18 columns):\n",
            " #   Column      Non-Null Count  Dtype \n",
            "---  ------      --------------  ----- \n",
            " 0   Disease     4920 non-null   object\n",
            " 1   Symptom_1   4920 non-null   object\n",
            " 2   Symptom_2   4920 non-null   object\n",
            " 3   Symptom_3   4920 non-null   object\n",
            " 4   Symptom_4   4572 non-null   object\n",
            " 5   Symptom_5   3714 non-null   object\n",
            " 6   Symptom_6   2934 non-null   object\n",
            " 7   Symptom_7   2268 non-null   object\n",
            " 8   Symptom_8   1944 non-null   object\n",
            " 9   Symptom_9   1692 non-null   object\n",
            " 10  Symptom_10  1512 non-null   object\n",
            " 11  Symptom_11  1194 non-null   object\n",
            " 12  Symptom_12  744 non-null    object\n",
            " 13  Symptom_13  504 non-null    object\n",
            " 14  Symptom_14  306 non-null    object\n",
            " 15  Symptom_15  240 non-null    object\n",
            " 16  Symptom_16  192 non-null    object\n",
            " 17  Symptom_17  72 non-null     object\n",
            "dtypes: object(18)\n",
            "memory usage: 692.0+ KB\n",
            "None\n",
            "                 Disease  Symptom_1  Symptom_2 Symptom_3    Symptom_4  \\\n",
            "count               4920       4920       4920      4920         4572   \n",
            "unique                41         34         48        54           50   \n",
            "top     Fungal infection   vomiting   vomiting   fatigue   high_fever   \n",
            "freq                 120        822        870       726          378   \n",
            "\n",
            "        Symptom_5 Symptom_6        Symptom_7        Symptom_8  \\\n",
            "count        3714      2934             2268             1944   \n",
            "unique         38        32               26               21   \n",
            "top      headache    nausea   abdominal_pain   abdominal_pain   \n",
            "freq          348       390              264              276   \n",
            "\n",
            "                 Symptom_9          Symptom_10     Symptom_11 Symptom_12  \\\n",
            "count                 1692                1512           1194        744   \n",
            "unique                  22                  21             18         11   \n",
            "top      yellowing_of_eyes   yellowing_of_eyes   irritability    malaise   \n",
            "freq                   228                 198            120        126   \n",
            "\n",
            "          Symptom_13   Symptom_14   Symptom_15        Symptom_16    Symptom_17  \n",
            "count            504          306          240               192            72  \n",
            "unique             8            4            3                 3             1  \n",
            "top      muscle_pain   chest_pain   chest_pain   blood_in_sputum   muscle_pain  \n",
            "freq              72           96          144                72            72  \n"
          ]
        }
      ]
    },
    {
      "cell_type": "markdown",
      "source": [
        "Assigning None to empty columns"
      ],
      "metadata": {
        "id": "GHVdCtxDCCxu"
      }
    },
    {
      "cell_type": "code",
      "source": [
        "print(df.isnull().sum())\n",
        "# You might want to fill these with 'None' or another appropriate value\n",
        "df = df.fillna('None')"
      ],
      "metadata": {
        "colab": {
          "base_uri": "https://localhost:8080/"
        },
        "id": "RJsgzmn_VNU0",
        "outputId": "68fd8159-fac4-4dbc-e9cf-736c368e14b6"
      },
      "execution_count": null,
      "outputs": [
        {
          "output_type": "stream",
          "name": "stdout",
          "text": [
            "Disease          0\n",
            "Symptom_1        0\n",
            "Symptom_2        0\n",
            "Symptom_3        0\n",
            "Symptom_4      348\n",
            "Symptom_5     1206\n",
            "Symptom_6     1986\n",
            "Symptom_7     2652\n",
            "Symptom_8     2976\n",
            "Symptom_9     3228\n",
            "Symptom_10    3408\n",
            "Symptom_11    3726\n",
            "Symptom_12    4176\n",
            "Symptom_13    4416\n",
            "Symptom_14    4614\n",
            "Symptom_15    4680\n",
            "Symptom_16    4728\n",
            "Symptom_17    4848\n",
            "dtype: int64\n"
          ]
        }
      ]
    },
    {
      "cell_type": "markdown",
      "source": [
        "Encoding Categorical Values"
      ],
      "metadata": {
        "id": "qGMA5kPnCJHh"
      }
    },
    {
      "cell_type": "code",
      "source": [
        "from sklearn.preprocessing import LabelEncoder, OneHotEncoder\n",
        "import numpy as np\n",
        "import pandas as pd\n",
        "\n",
        "# Label encode the Disease column\n",
        "le = LabelEncoder()\n",
        "df['Disease'] = le.fit_transform(df['Disease'])\n",
        "\n",
        "# One-hot encode the symptom columns\n",
        "symptom_columns = ['Symptom_1', 'Symptom_2', 'Symptom_3', 'Symptom_4', 'Symptom_5', 'Symptom_6',\n",
        "                   'Symptom_7', 'Symptom_8', 'Symptom_9', 'Symptom_10', 'Symptom_11', 'Symptom_12',\n",
        "                   'Symptom_13', 'Symptom_14', 'Symptom_15', 'Symptom_16', 'Symptom_17']\n",
        "ohe = OneHotEncoder(sparse_output=False, handle_unknown='ignore')\n",
        "\n",
        "symptom_encoded = ohe.fit_transform(df[symptom_columns])\n",
        "\n",
        "# Create new dataframe with encoded features\n",
        "# Get the original symptom names from the OneHotEncoder\n",
        "symptom_columns_encoded = ohe.get_feature_names_out(symptom_columns)\n",
        "\n",
        "# Remove the prefix (1_, 2_, ..., 17_) and the leading 'Symptom_'\n",
        "# Remove the prefix (Symptom_1_, Symptom_2_, etc.), unnecessary spaces, and numbers\n",
        "symptom_columns_encoded = [name.split('_', 1)[1].lstrip('0123456789_').replace(' ', '') for name in symptom_columns_encoded]\n",
        "\n",
        "# Optionally, you can print the cleaned symptom names to verify\n",
        "print(symptom_columns_encoded)\n",
        "\n",
        "\n",
        "# Create the DataFrame with updated symptom names\n",
        "df_encoded = pd.DataFrame(symptom_encoded, columns=symptom_columns_encoded)\n",
        "\n",
        "# Add the Disease column back\n",
        "df_encoded['Disease'] = df['Disease']\n",
        "\n",
        "# Display the new DataFrame\n",
        "print(df_encoded.head())\n"
      ],
      "metadata": {
        "colab": {
          "base_uri": "https://localhost:8080/"
        },
        "id": "U3yvpmXCVVjv",
        "outputId": "90656096-47b5-45fe-f4fd-c9b8b20d7312"
      },
      "execution_count": null,
      "outputs": [
        {
          "output_type": "stream",
          "name": "stdout",
          "text": [
            "['acidity', 'back_pain', 'bladder_discomfort', 'breathlessness', 'burning_micturition', 'chest_pain', 'chills', 'constipation', 'continuous_sneezing', 'cough', 'cramps', 'fatigue', 'headache', 'high_fever', 'indigestion', 'joint_pain', 'mood_swings', 'muscle_wasting', 'muscle_weakness', 'neck_pain', 'pain_during_bowel_movements', 'patches_in_throat', 'pus_filled_pimples', 'shivering', 'skin_rash', 'stiff_neck', 'stomach_pain', 'sunken_eyes', 'vomiting', 'weakness_in_limbs', 'weight_gain', 'weight_loss', 'yellowish_skin', 'itching', 'abdominal_pain', 'acidity', 'anxiety', 'blackheads', 'bladder_discomfort', 'blister', 'breathlessness', 'bruising', 'chest_pain', 'chills', 'cold_hands_and_feets', 'cough', 'cramps', 'dehydration', 'dizziness', 'fatigue', 'foul_smell_ofurine', 'headache', 'high_fever', 'indigestion', 'joint_pain', 'knee_pain', 'lethargy', 'loss_of_appetite', 'mood_swings', 'nausea', 'neck_pain', 'nodal_skin_eruptions', 'pain_during_bowel_movements', 'pain_in_anal_region', 'patches_in_throat', 'pus_filled_pimples', 'restlessness', 'shivering', 'skin_peeling', 'skin_rash', 'stiff_neck', 'stomach_pain', 'sunken_eyes', 'sweating', 'swelling_joints', 'ulcers_on_tongue', 'vomiting', 'weakness_in_limbs', 'weakness_of_one_body_side', 'weight_gain', 'weight_loss', 'yellowish_skin', 'abdominal_pain', 'altered_sensorium', 'anxiety', 'blackheads', 'blister', 'bloody_stool', 'blurred_and_distorted_vision', 'breathlessness', 'bruising', 'burning_micturition', 'chest_pain', 'chills', 'cold_hands_and_feets', 'continuous_feel_of_urine', 'cough', 'dark_urine', 'dehydration', 'diarrhoea', 'dischromic_patches', 'dizziness', 'extra_marital_contacts', 'fatigue', 'foul_smell_ofurine', 'headache', 'high_fever', 'hip_joint_pain', 'joint_pain', 'knee_pain', 'lethargy', 'loss_of_appetite', 'loss_of_balance', 'mood_swings', 'movement_stiffness', 'nausea', 'neck_pain', 'nodal_skin_eruptions', 'obesity', 'pain_in_anal_region', 'red_sore_around_nose', 'restlessness', 'scurring', 'silver_like_dusting', 'skin_peeling', 'spinning_movements', 'stomach_pain', 'sweating', 'swelling_joints', 'swelling_of_stomach', 'ulcers_on_tongue', 'vomiting', 'watering_from_eyes', 'weakness_of_one_body_side', 'weight_loss', 'yellowish_skin', 'abdominal_pain', 'altered_sensorium', 'bloody_stool', 'blurred_and_distorted_vision', 'breathlessness', 'burning_micturition', 'chest_pain', 'continuous_feel_of_urine', 'cough', 'dark_urine', 'diarrhoea', 'dischromic_patches', 'distention_of_abdomen', 'dizziness', 'excessive_hunger', 'extra_marital_contacts', 'family_history', 'fatigue', 'headache', 'high_fever', 'hip_joint_pain', 'irregular_sugar_level', 'irritation_in_anus', 'lack_of_concentration', 'lethargy', 'loss_of_appetite', 'loss_of_balance', 'mood_swings', 'movement_stiffness', 'nausea', 'obesity', 'painful_walking', 'passage_of_gases', 'red_sore_around_nose', 'restlessness', 'scurring', 'silver_like_dusting', 'small_dents_in_nails', 'spinning_movements', 'spotting_urination', 'sweating', 'swelling_joints', 'swelling_of_stomach', 'swollen_legs', 'vomiting', 'watering_from_eyes', 'weight_loss', 'yellow_crust_ooze', 'yellowing_of_eyes', 'yellowish_skin', 'None', 'abdominal_pain', 'blurred_and_distorted_vision', 'breathlessness', 'chest_pain', 'cough', 'dark_urine', 'diarrhoea', 'distention_of_abdomen', 'dizziness', 'excessive_hunger', 'family_history', 'fatigue', 'headache', 'high_fever', 'history_of_alcohol_consumption', 'inflammatory_nails', 'internal_itching', 'irregular_sugar_level', 'irritation_in_anus', 'lack_of_concentration', 'lethargy', 'loss_of_appetite', 'loss_of_balance', 'mucoid_sputum', 'nausea', 'painful_walking', 'passage_of_gases', 'small_dents_in_nails', 'spotting_urination', 'stiff_neck', 'sweating', 'swelling_joints', 'swollen_blood_vessels', 'swollen_legs', 'unsteadiness', 'yellow_crust_ooze', 'yellowing_of_eyes', 'yellowish_skin', 'None', 'abdominal_pain', 'blurred_and_distorted_vision', 'breathlessness', 'chest_pain', 'constipation', 'dark_urine', 'depression', 'diarrhoea', 'dizziness', 'family_history', 'fast_heart_rate', 'fluid_overload', 'headache', 'high_fever', 'history_of_alcohol_consumption', 'inflammatory_nails', 'internal_itching', 'loss_of_appetite', 'malaise', 'mucoid_sputum', 'nausea', 'obesity', 'painful_walking', 'prominent_veins_on_calf', 'puffy_face_and_eyes', 'stiff_neck', 'sweating', 'swelled_lymph_nodes', 'swollen_blood_vessels', 'unsteadiness', 'yellowing_of_eyes', 'yellowish_skin', 'None', 'abdominal_pain', 'blurred_and_distorted_vision', 'breathlessness', 'constipation', 'dark_urine', 'depression', 'diarrhoea', 'enlarged_thyroid', 'excessive_hunger', 'fast_heart_rate', 'fluid_overload', 'headache', 'irritability', 'loss_of_appetite', 'malaise', 'mild_fever', 'muscle_pain', 'nausea', 'obesity', 'phlegm', 'prominent_veins_on_calf', 'puffy_face_and_eyes', 'sweating', 'swelled_lymph_nodes', 'yellow_urine', 'yellowing_of_eyes', 'None', 'abdominal_pain', 'brittle_nails', 'chest_pain', 'diarrhoea', 'drying_and_tingling_lips', 'enlarged_thyroid', 'excessive_hunger', 'increased_appetite', 'irritability', 'loss_of_appetite', 'malaise', 'mild_fever', 'muscle_pain', 'muscle_weakness', 'nausea', 'phlegm', 'sweating', 'swelled_lymph_nodes', 'visual_disturbances', 'yellow_urine', 'yellowing_of_eyes', 'None', 'abdominal_pain', 'brittle_nails', 'chest_pain', 'diarrhoea', 'drying_and_tingling_lips', 'fast_heart_rate', 'increased_appetite', 'irritability', 'loss_of_appetite', 'malaise', 'mild_fever', 'muscle_weakness', 'pain_behind_the_eyes', 'phlegm', 'polyuria', 'slurred_speech', 'swelled_lymph_nodes', 'swollen_extremeties', 'throat_irritation', 'toxic_look_(typhos)', 'visual_disturbances', 'yellowing_of_eyes', 'None', 'abnormal_menstruation', 'acute_liver_failure', 'back_pain', 'belly_pain', 'depression', 'fast_heart_rate', 'irritability', 'malaise', 'mild_fever', 'muscle_pain', 'pain_behind_the_eyes', 'polyuria', 'receiving_blood_transfusion', 'red_spots_over_body', 'redness_of_eyes', 'rusty_sputum', 'slurred_speech', 'swollen_extremeties', 'throat_irritation', 'toxic_look_(typhos)', 'yellowing_of_eyes', 'None', 'abnormal_menstruation', 'acute_liver_failure', 'back_pain', 'belly_pain', 'coma', 'depression', 'irritability', 'malaise', 'muscle_pain', 'palpitations', 'receiving_blood_transfusion', 'receiving_unsterile_injections', 'red_spots_over_body', 'redness_of_eyes', 'rusty_sputum', 'sinus_pressure', 'swelled_lymph_nodes', 'yellowing_of_eyes', 'None', 'abnormal_menstruation', 'coma', 'irritability', 'malaise', 'muscle_pain', 'palpitations', 'receiving_unsterile_injections', 'runny_nose', 'sinus_pressure', 'stomach_bleeding', 'swelled_lymph_nodes', 'None', 'abnormal_menstruation', 'congestion', 'malaise', 'muscle_pain', 'phlegm', 'red_spots_over_body', 'runny_nose', 'stomach_bleeding', 'None', 'chest_pain', 'congestion', 'phlegm', 'red_spots_over_body', 'None', 'blood_in_sputum', 'chest_pain', 'loss_of_smell', 'None', 'blood_in_sputum', 'loss_of_smell', 'muscle_pain', 'None', 'muscle_pain', 'None']\n",
            "   acidity  back_pain  bladder_discomfort  breathlessness  \\\n",
            "0      0.0        0.0                 0.0             0.0   \n",
            "1      0.0        0.0                 0.0             0.0   \n",
            "2      0.0        0.0                 0.0             0.0   \n",
            "3      0.0        0.0                 0.0             0.0   \n",
            "4      0.0        0.0                 0.0             0.0   \n",
            "\n",
            "   burning_micturition  chest_pain  chills  constipation  continuous_sneezing  \\\n",
            "0                  0.0         0.0     0.0           0.0                  0.0   \n",
            "1                  0.0         0.0     0.0           0.0                  0.0   \n",
            "2                  0.0         0.0     0.0           0.0                  0.0   \n",
            "3                  0.0         0.0     0.0           0.0                  0.0   \n",
            "4                  0.0         0.0     0.0           0.0                  0.0   \n",
            "\n",
            "   cough  ...  chest_pain  loss_of_smell  None  blood_in_sputum  \\\n",
            "0    0.0  ...         0.0            0.0   1.0              0.0   \n",
            "1    0.0  ...         0.0            0.0   1.0              0.0   \n",
            "2    0.0  ...         0.0            0.0   1.0              0.0   \n",
            "3    0.0  ...         0.0            0.0   1.0              0.0   \n",
            "4    0.0  ...         0.0            0.0   1.0              0.0   \n",
            "\n",
            "   loss_of_smell  muscle_pain  None  muscle_pain  None  Disease  \n",
            "0            0.0          0.0   1.0          0.0   1.0       15  \n",
            "1            0.0          0.0   1.0          0.0   1.0       15  \n",
            "2            0.0          0.0   1.0          0.0   1.0       15  \n",
            "3            0.0          0.0   1.0          0.0   1.0       15  \n",
            "4            0.0          0.0   1.0          0.0   1.0       15  \n",
            "\n",
            "[5 rows x 409 columns]\n"
          ]
        }
      ]
    },
    {
      "cell_type": "code",
      "execution_count": null,
      "metadata": {
        "colab": {
          "base_uri": "https://localhost:8080/"
        },
        "id": "yNV2tOJpVAVL",
        "outputId": "e8efa321-67fc-426e-fb8d-09700280b369"
      },
      "outputs": [
        {
          "output_type": "stream",
          "name": "stdout",
          "text": [
            "Training set size: (3444, 408)\n",
            "Testing set size: (1476, 408)\n"
          ]
        }
      ],
      "source": [
        "from sklearn.model_selection import train_test_split\n",
        "\n",
        "# Define your target (Disease column) and features (all original features)\n",
        "X = df_encoded.drop(columns=['Disease'])  # Use all features excluding 'Disease'\n",
        "y = df_encoded['Disease']  # The target column\n",
        "\n",
        "# Split data into training and testing sets\n",
        "X_train, X_test, y_train, y_test = train_test_split(X, y, test_size=0.3, random_state=42)\n",
        "\n",
        "print(f\"Training set size: {X_train.shape}\")\n",
        "print(f\"Testing set size: {X_test.shape}\")\n",
        "\n",
        "# Export training and testing sets to CSV files\n",
        "X_train.to_csv('X_train.csv', index=False)\n",
        "X_test.to_csv('X_test.csv', index=False)\n",
        "y_train.to_csv('y_train.csv', index=False)\n",
        "y_test.to_csv('y_test.csv', index=False)\n"
      ]
    },
    {
      "cell_type": "markdown",
      "source": [
        "Train Test Split\n",
        "*   X_train: Training features\n",
        "*   X_test: Testing features\n",
        "*   y_train: Training Disease\n",
        "*   y_test: Testing Disease"
      ],
      "metadata": {
        "id": "ejztsmEhCTFx"
      }
    },
    {
      "cell_type": "code",
      "source": [
        "from sklearn.model_selection import train_test_split\n",
        "\n",
        "# Define your target (Disease column) and features (all original features)\n",
        "X = df_encoded.drop(columns=['Disease'])  # Use all features excluding 'Disease'\n",
        "y = df_encoded['Disease']  # The target column\n",
        "\n",
        "# Split data into training and testing sets\n",
        "X_train, X_test, y_train, y_test = train_test_split(X, y, test_size=0.3, random_state=42)\n",
        "\n",
        "# Print the data types of X_train and y_train\n",
        "print(type(X_train), type(y_train))\n",
        "\n",
        "# Remove duplicate columns from X_train and X_test\n",
        "X_train = X_train.loc[:, ~X_train.columns.duplicated()]\n",
        "X_test = X_test.loc[:, ~X_test.columns.duplicated()]\n",
        "\n",
        "# Check for missing values in X_train and y_train\n",
        "print(\"Missing values in X_train:\")\n",
        "print(X_train.isnull().sum())\n",
        "\n",
        "print(\"Missing values in y_train:\")\n",
        "print(y_train.isnull().sum())\n"
      ],
      "metadata": {
        "colab": {
          "base_uri": "https://localhost:8080/"
        },
        "id": "LvPEsbEQVHiy",
        "outputId": "a6522b88-0d66-4525-dda9-303e59df01a1"
      },
      "execution_count": null,
      "outputs": [
        {
          "output_type": "stream",
          "name": "stdout",
          "text": [
            "<class 'pandas.core.frame.DataFrame'> <class 'pandas.core.series.Series'>\n",
            "Missing values in X_train:\n",
            "acidity                0\n",
            "back_pain              0\n",
            "bladder_discomfort     0\n",
            "breathlessness         0\n",
            "burning_micturition    0\n",
            "                      ..\n",
            "runny_nose             0\n",
            "stomach_bleeding       0\n",
            "congestion             0\n",
            "blood_in_sputum        0\n",
            "loss_of_smell          0\n",
            "Length: 132, dtype: int64\n",
            "Missing values in y_train:\n",
            "0\n"
          ]
        }
      ]
    },
    {
      "cell_type": "markdown",
      "source": [
        "**XGBClassifier Algo**"
      ],
      "metadata": {
        "id": "6f-XoYmQGpOd"
      }
    },
    {
      "cell_type": "code",
      "source": [
        "from xgboost import XGBClassifier\n",
        "from sklearn.metrics import classification_report, accuracy_score\n",
        "\n",
        "# Initialize the XGBoost model\n",
        "xgb_model = XGBClassifier(random_state=42)\n",
        "\n",
        "# Train the model on the training set\n",
        "xgb_model.fit(X_train, y_train)\n",
        "\n",
        "# Make predictions on the test set\n",
        "y_pred = xgb_model.predict(X_test)\n",
        "\n",
        "# Evaluate the model\n",
        "accuracy = accuracy_score(y_test, y_pred)\n",
        "report = classification_report(y_test, y_pred)\n",
        "\n",
        "print(f\"Accuracy: {accuracy:.2f}\")\n",
        "print(\"Classification Report:\")\n",
        "print(report)\n"
      ],
      "metadata": {
        "colab": {
          "base_uri": "https://localhost:8080/"
        },
        "id": "Wm8OaQQDVupc",
        "outputId": "11297feb-f6a3-46f2-d7e9-e27c2fca9039"
      },
      "execution_count": null,
      "outputs": [
        {
          "output_type": "stream",
          "name": "stdout",
          "text": [
            "Accuracy: 0.56\n",
            "Classification Report:\n",
            "              precision    recall  f1-score   support\n",
            "\n",
            "           0       0.17      1.00      0.29        32\n",
            "           1       1.00      1.00      1.00        39\n",
            "           2       1.00      0.29      0.45        41\n",
            "           3       1.00      0.17      0.29        36\n",
            "           4       1.00      0.37      0.54        35\n",
            "           5       0.80      1.00      0.89        36\n",
            "           6       1.00      0.39      0.56        44\n",
            "           7       1.00      1.00      1.00        32\n",
            "           8       1.00      0.40      0.57        35\n",
            "           9       0.18      0.93      0.31        30\n",
            "          10       0.58      1.00      0.74        31\n",
            "          11       1.00      0.45      0.62        40\n",
            "          12       1.00      0.39      0.57        33\n",
            "          13       1.00      0.91      0.95        45\n",
            "          14       1.00      0.26      0.41        35\n",
            "          15       1.00      0.39      0.56        28\n",
            "          16       1.00      1.00      1.00        41\n",
            "          17       1.00      0.20      0.33        40\n",
            "          18       0.81      0.36      0.50        36\n",
            "          19       1.00      0.43      0.61        46\n",
            "          20       0.27      1.00      0.43        40\n",
            "          21       0.27      0.94      0.42        35\n",
            "          22       1.00      0.38      0.55        47\n",
            "          23       1.00      1.00      1.00        31\n",
            "          24       1.00      0.51      0.68        37\n",
            "          25       1.00      0.36      0.53        42\n",
            "          26       1.00      0.39      0.57        33\n",
            "          27       1.00      0.09      0.16        35\n",
            "          28       0.00      0.00      0.00        34\n",
            "          29       1.00      0.33      0.50        30\n",
            "          30       1.00      1.00      1.00        36\n",
            "          31       1.00      0.11      0.19        28\n",
            "          32       1.00      0.38      0.55        34\n",
            "          33       1.00      0.44      0.62        27\n",
            "          34       1.00      0.38      0.56        39\n",
            "          35       0.29      1.00      0.45        32\n",
            "          36       1.00      0.46      0.63        35\n",
            "          37       0.35      1.00      0.52        34\n",
            "          38       1.00      1.00      1.00        36\n",
            "          39       1.00      0.41      0.58        37\n",
            "          40       1.00      0.03      0.05        39\n",
            "\n",
            "    accuracy                           0.56      1476\n",
            "   macro avg       0.85      0.57      0.57      1476\n",
            "weighted avg       0.86      0.56      0.57      1476\n",
            "\n"
          ]
        },
        {
          "output_type": "stream",
          "name": "stderr",
          "text": [
            "/usr/local/lib/python3.10/dist-packages/sklearn/metrics/_classification.py:1531: UndefinedMetricWarning: Precision is ill-defined and being set to 0.0 in labels with no predicted samples. Use `zero_division` parameter to control this behavior.\n",
            "  _warn_prf(average, modifier, f\"{metric.capitalize()} is\", len(result))\n",
            "/usr/local/lib/python3.10/dist-packages/sklearn/metrics/_classification.py:1531: UndefinedMetricWarning: Precision is ill-defined and being set to 0.0 in labels with no predicted samples. Use `zero_division` parameter to control this behavior.\n",
            "  _warn_prf(average, modifier, f\"{metric.capitalize()} is\", len(result))\n",
            "/usr/local/lib/python3.10/dist-packages/sklearn/metrics/_classification.py:1531: UndefinedMetricWarning: Precision is ill-defined and being set to 0.0 in labels with no predicted samples. Use `zero_division` parameter to control this behavior.\n",
            "  _warn_prf(average, modifier, f\"{metric.capitalize()} is\", len(result))\n"
          ]
        }
      ]
    },
    {
      "cell_type": "markdown",
      "source": [
        "**RandomForest Algo**"
      ],
      "metadata": {
        "id": "DqgfizgZGxZb"
      }
    },
    {
      "cell_type": "code",
      "source": [
        "from sklearn.ensemble import RandomForestClassifier\n",
        "from sklearn.metrics import classification_report, accuracy_score\n",
        "\n",
        "# Initialize the Random Forest model\n",
        "rf_model = RandomForestClassifier(random_state=42)\n",
        "\n",
        "# Train the model on the training set\n",
        "rf_model.fit(X_train, y_train)\n",
        "\n",
        "# Make predictions on the test set\n",
        "y_pred = rf_model.predict(X_test)\n",
        "\n",
        "# Evaluate the model\n",
        "accuracy = accuracy_score(y_test, y_pred)\n",
        "report = classification_report(y_test, y_pred)\n",
        "\n",
        "print(f\"Accuracy: {accuracy:.2f}\")\n",
        "print(\"Classification Report:\")\n",
        "print(report)\n"
      ],
      "metadata": {
        "colab": {
          "base_uri": "https://localhost:8080/"
        },
        "id": "XakEvn2vGw9m",
        "outputId": "6a4bb1aa-9110-46a2-8d1f-2a0d1b4e64e1"
      },
      "execution_count": null,
      "outputs": [
        {
          "output_type": "stream",
          "name": "stdout",
          "text": [
            "Accuracy: 0.57\n",
            "Classification Report:\n",
            "              precision    recall  f1-score   support\n",
            "\n",
            "           0       0.18      1.00      0.30        32\n",
            "           1       1.00      1.00      1.00        39\n",
            "           2       1.00      0.29      0.45        41\n",
            "           3       1.00      0.17      0.29        36\n",
            "           4       1.00      0.37      0.54        35\n",
            "           5       1.00      1.00      1.00        36\n",
            "           6       1.00      0.39      0.56        44\n",
            "           7       1.00      1.00      1.00        32\n",
            "           8       1.00      0.40      0.57        35\n",
            "           9       0.18      0.93      0.31        30\n",
            "          10       0.58      1.00      0.74        31\n",
            "          11       1.00      0.45      0.62        40\n",
            "          12       1.00      0.39      0.57        33\n",
            "          13       1.00      1.00      1.00        45\n",
            "          14       1.00      0.26      0.41        35\n",
            "          15       1.00      0.39      0.56        28\n",
            "          16       1.00      1.00      1.00        41\n",
            "          17       1.00      0.20      0.33        40\n",
            "          18       0.81      0.36      0.50        36\n",
            "          19       1.00      0.43      0.61        46\n",
            "          20       0.27      1.00      0.43        40\n",
            "          21       0.27      0.94      0.42        35\n",
            "          22       1.00      0.38      0.55        47\n",
            "          23       1.00      1.00      1.00        31\n",
            "          24       1.00      0.51      0.68        37\n",
            "          25       1.00      0.36      0.53        42\n",
            "          26       1.00      0.39      0.57        33\n",
            "          27       1.00      0.23      0.37        35\n",
            "          28       0.00      0.00      0.00        34\n",
            "          29       1.00      0.33      0.50        30\n",
            "          30       1.00      1.00      1.00        36\n",
            "          31       1.00      0.11      0.19        28\n",
            "          32       1.00      0.38      0.55        34\n",
            "          33       1.00      0.44      0.62        27\n",
            "          34       1.00      0.38      0.56        39\n",
            "          35       0.29      1.00      0.45        32\n",
            "          36       1.00      0.46      0.63        35\n",
            "          37       0.35      1.00      0.52        34\n",
            "          38       1.00      1.00      1.00        36\n",
            "          39       1.00      0.41      0.58        37\n",
            "          40       1.00      0.13      0.23        39\n",
            "\n",
            "    accuracy                           0.57      1476\n",
            "   macro avg       0.85      0.57      0.58      1476\n",
            "weighted avg       0.86      0.57      0.58      1476\n",
            "\n"
          ]
        },
        {
          "output_type": "stream",
          "name": "stderr",
          "text": [
            "/usr/local/lib/python3.10/dist-packages/sklearn/metrics/_classification.py:1531: UndefinedMetricWarning: Precision is ill-defined and being set to 0.0 in labels with no predicted samples. Use `zero_division` parameter to control this behavior.\n",
            "  _warn_prf(average, modifier, f\"{metric.capitalize()} is\", len(result))\n",
            "/usr/local/lib/python3.10/dist-packages/sklearn/metrics/_classification.py:1531: UndefinedMetricWarning: Precision is ill-defined and being set to 0.0 in labels with no predicted samples. Use `zero_division` parameter to control this behavior.\n",
            "  _warn_prf(average, modifier, f\"{metric.capitalize()} is\", len(result))\n",
            "/usr/local/lib/python3.10/dist-packages/sklearn/metrics/_classification.py:1531: UndefinedMetricWarning: Precision is ill-defined and being set to 0.0 in labels with no predicted samples. Use `zero_division` parameter to control this behavior.\n",
            "  _warn_prf(average, modifier, f\"{metric.capitalize()} is\", len(result))\n"
          ]
        }
      ]
    },
    {
      "cell_type": "markdown",
      "source": [
        "**Logistic Regression Algo**"
      ],
      "metadata": {
        "id": "4HOdV_JyHNey"
      }
    },
    {
      "cell_type": "code",
      "source": [
        "from sklearn.linear_model import LogisticRegression\n",
        "from sklearn.metrics import classification_report, accuracy_score\n",
        "\n",
        "# Initialize the Logistic Regression model\n",
        "lr_model = LogisticRegression(random_state=42, max_iter=1000)\n",
        "\n",
        "# Train the model on the training set\n",
        "lr_model.fit(X_train, y_train)\n",
        "\n",
        "# Make predictions on the test set\n",
        "y_pred = lr_model.predict(X_test)\n",
        "\n",
        "# Evaluate the model\n",
        "accuracy = accuracy_score(y_test, y_pred)\n",
        "report = classification_report(y_test, y_pred)\n",
        "\n",
        "print(f\"Accuracy: {accuracy:.2f}\")\n",
        "print(\"Classification Report:\")\n",
        "print(report)\n"
      ],
      "metadata": {
        "colab": {
          "base_uri": "https://localhost:8080/"
        },
        "id": "lWcdY1jEHNP-",
        "outputId": "b5584c27-d846-4e71-cd6a-eea7bf858250"
      },
      "execution_count": null,
      "outputs": [
        {
          "output_type": "stream",
          "name": "stdout",
          "text": [
            "Accuracy: 0.57\n",
            "Classification Report:\n",
            "              precision    recall  f1-score   support\n",
            "\n",
            "           0       0.17      1.00      0.29        32\n",
            "           1       1.00      1.00      1.00        39\n",
            "           2       1.00      0.29      0.45        41\n",
            "           3       1.00      0.17      0.29        36\n",
            "           4       1.00      0.37      0.54        35\n",
            "           5       1.00      1.00      1.00        36\n",
            "           6       1.00      0.39      0.56        44\n",
            "           7       1.00      1.00      1.00        32\n",
            "           8       1.00      0.40      0.57        35\n",
            "           9       0.18      0.93      0.31        30\n",
            "          10       0.58      1.00      0.74        31\n",
            "          11       1.00      0.45      0.62        40\n",
            "          12       1.00      0.39      0.57        33\n",
            "          13       1.00      1.00      1.00        45\n",
            "          14       1.00      0.26      0.41        35\n",
            "          15       1.00      0.39      0.56        28\n",
            "          16       1.00      0.93      0.96        41\n",
            "          17       1.00      0.20      0.33        40\n",
            "          18       0.81      0.36      0.50        36\n",
            "          19       1.00      0.43      0.61        46\n",
            "          20       0.27      1.00      0.43        40\n",
            "          21       0.27      0.94      0.42        35\n",
            "          22       1.00      0.38      0.55        47\n",
            "          23       1.00      1.00      1.00        31\n",
            "          24       1.00      0.51      0.68        37\n",
            "          25       1.00      0.36      0.53        42\n",
            "          26       1.00      0.39      0.57        33\n",
            "          27       1.00      0.23      0.37        35\n",
            "          28       0.00      0.00      0.00        34\n",
            "          29       1.00      0.33      0.50        30\n",
            "          30       0.92      1.00      0.96        36\n",
            "          31       1.00      0.11      0.19        28\n",
            "          32       1.00      0.38      0.55        34\n",
            "          33       1.00      0.44      0.62        27\n",
            "          34       1.00      0.38      0.56        39\n",
            "          35       0.29      1.00      0.45        32\n",
            "          36       1.00      0.46      0.63        35\n",
            "          37       0.35      1.00      0.52        34\n",
            "          38       1.00      1.00      1.00        36\n",
            "          39       1.00      0.41      0.58        37\n",
            "          40       1.00      0.03      0.05        39\n",
            "\n",
            "    accuracy                           0.57      1476\n",
            "   macro avg       0.85      0.57      0.57      1476\n",
            "weighted avg       0.86      0.57      0.58      1476\n",
            "\n"
          ]
        },
        {
          "output_type": "stream",
          "name": "stderr",
          "text": [
            "/usr/local/lib/python3.10/dist-packages/sklearn/metrics/_classification.py:1531: UndefinedMetricWarning: Precision is ill-defined and being set to 0.0 in labels with no predicted samples. Use `zero_division` parameter to control this behavior.\n",
            "  _warn_prf(average, modifier, f\"{metric.capitalize()} is\", len(result))\n",
            "/usr/local/lib/python3.10/dist-packages/sklearn/metrics/_classification.py:1531: UndefinedMetricWarning: Precision is ill-defined and being set to 0.0 in labels with no predicted samples. Use `zero_division` parameter to control this behavior.\n",
            "  _warn_prf(average, modifier, f\"{metric.capitalize()} is\", len(result))\n",
            "/usr/local/lib/python3.10/dist-packages/sklearn/metrics/_classification.py:1531: UndefinedMetricWarning: Precision is ill-defined and being set to 0.0 in labels with no predicted samples. Use `zero_division` parameter to control this behavior.\n",
            "  _warn_prf(average, modifier, f\"{metric.capitalize()} is\", len(result))\n"
          ]
        }
      ]
    },
    {
      "cell_type": "markdown",
      "source": [
        "**Support Vector Machine Algo**"
      ],
      "metadata": {
        "id": "liqDseW4HaOM"
      }
    },
    {
      "cell_type": "code",
      "source": [
        "from sklearn.svm import SVC\n",
        "from sklearn.metrics import classification_report, accuracy_score\n",
        "\n",
        "# Initialize the Support Vector Classifier model\n",
        "svc_model = SVC(random_state=42)\n",
        "\n",
        "# Train the model on the training set\n",
        "svc_model.fit(X_train, y_train)\n",
        "\n",
        "# Make predictions on the test set\n",
        "y_pred = svc_model.predict(X_test)\n",
        "\n",
        "# Evaluate the model\n",
        "accuracy = accuracy_score(y_test, y_pred)\n",
        "report = classification_report(y_test, y_pred)\n",
        "\n",
        "print(f\"Accuracy: {accuracy:.2f}\")\n",
        "print(\"Classification Report:\")\n",
        "print(report)\n"
      ],
      "metadata": {
        "colab": {
          "base_uri": "https://localhost:8080/"
        },
        "id": "Xy-c7N7THafY",
        "outputId": "4211baa4-b358-42d8-d1dc-f1d561a40c8d"
      },
      "execution_count": null,
      "outputs": [
        {
          "output_type": "stream",
          "name": "stdout",
          "text": [
            "Accuracy: 0.57\n",
            "Classification Report:\n",
            "              precision    recall  f1-score   support\n",
            "\n",
            "           0       0.18      1.00      0.30        32\n",
            "           1       1.00      1.00      1.00        39\n",
            "           2       1.00      0.29      0.45        41\n",
            "           3       1.00      0.17      0.29        36\n",
            "           4       1.00      0.37      0.54        35\n",
            "           5       1.00      1.00      1.00        36\n",
            "           6       1.00      0.39      0.56        44\n",
            "           7       1.00      1.00      1.00        32\n",
            "           8       1.00      0.40      0.57        35\n",
            "           9       0.18      0.93      0.31        30\n",
            "          10       0.58      1.00      0.74        31\n",
            "          11       1.00      0.45      0.62        40\n",
            "          12       1.00      0.39      0.57        33\n",
            "          13       1.00      1.00      1.00        45\n",
            "          14       1.00      0.26      0.41        35\n",
            "          15       1.00      0.39      0.56        28\n",
            "          16       1.00      1.00      1.00        41\n",
            "          17       1.00      0.20      0.33        40\n",
            "          18       0.81      0.36      0.50        36\n",
            "          19       1.00      0.43      0.61        46\n",
            "          20       0.27      1.00      0.43        40\n",
            "          21       0.27      0.94      0.42        35\n",
            "          22       1.00      0.38      0.55        47\n",
            "          23       1.00      1.00      1.00        31\n",
            "          24       1.00      0.51      0.68        37\n",
            "          25       1.00      0.36      0.53        42\n",
            "          26       1.00      0.39      0.57        33\n",
            "          27       1.00      0.23      0.37        35\n",
            "          28       0.00      0.00      0.00        34\n",
            "          29       1.00      0.33      0.50        30\n",
            "          30       1.00      1.00      1.00        36\n",
            "          31       1.00      0.11      0.19        28\n",
            "          32       1.00      0.38      0.55        34\n",
            "          33       1.00      0.44      0.62        27\n",
            "          34       1.00      0.38      0.56        39\n",
            "          35       0.29      1.00      0.45        32\n",
            "          36       1.00      0.46      0.63        35\n",
            "          37       0.35      1.00      0.52        34\n",
            "          38       1.00      1.00      1.00        36\n",
            "          39       1.00      0.41      0.58        37\n",
            "          40       1.00      0.13      0.23        39\n",
            "\n",
            "    accuracy                           0.57      1476\n",
            "   macro avg       0.85      0.57      0.58      1476\n",
            "weighted avg       0.86      0.57      0.58      1476\n",
            "\n"
          ]
        },
        {
          "output_type": "stream",
          "name": "stderr",
          "text": [
            "/usr/local/lib/python3.10/dist-packages/sklearn/metrics/_classification.py:1531: UndefinedMetricWarning: Precision is ill-defined and being set to 0.0 in labels with no predicted samples. Use `zero_division` parameter to control this behavior.\n",
            "  _warn_prf(average, modifier, f\"{metric.capitalize()} is\", len(result))\n",
            "/usr/local/lib/python3.10/dist-packages/sklearn/metrics/_classification.py:1531: UndefinedMetricWarning: Precision is ill-defined and being set to 0.0 in labels with no predicted samples. Use `zero_division` parameter to control this behavior.\n",
            "  _warn_prf(average, modifier, f\"{metric.capitalize()} is\", len(result))\n",
            "/usr/local/lib/python3.10/dist-packages/sklearn/metrics/_classification.py:1531: UndefinedMetricWarning: Precision is ill-defined and being set to 0.0 in labels with no predicted samples. Use `zero_division` parameter to control this behavior.\n",
            "  _warn_prf(average, modifier, f\"{metric.capitalize()} is\", len(result))\n"
          ]
        }
      ]
    },
    {
      "cell_type": "code",
      "source": [
        "from sklearn.metrics import confusion_matrix, ConfusionMatrixDisplay\n",
        "import matplotlib.pyplot as plt\n",
        "\n",
        "# Calculate the confusion matrix\n",
        "cm = confusion_matrix(y_test, y_pred)\n",
        "\n",
        "# Increase figure size\n",
        "plt.figure(figsize=(15, 15))  # Adjust the size as needed\n",
        "\n",
        "# Display the confusion matrix\n",
        "disp = ConfusionMatrixDisplay(confusion_matrix=cm, display_labels=xgb_model.classes_)\n",
        "disp.plot(cmap=plt.cm.Blues)\n",
        "\n",
        "plt.xticks(rotation=45, ha='right')\n",
        "plt.yticks(rotation=45)\n",
        "\n",
        "plt.title(\"Confusion Matrix\")\n",
        "plt.show()\n"
      ],
      "metadata": {
        "colab": {
          "base_uri": "https://localhost:8080/",
          "height": 497
        },
        "id": "4Lb1949lWtju",
        "outputId": "55ee1e75-feb5-4ebb-fd62-6a881033ceea"
      },
      "execution_count": null,
      "outputs": [
        {
          "output_type": "display_data",
          "data": {
            "text/plain": [
              "<Figure size 1500x1500 with 0 Axes>"
            ]
          },
          "metadata": {}
        },
        {
          "output_type": "display_data",
          "data": {
            "text/plain": [
              "<Figure size 640x480 with 2 Axes>"
            ],
            "image/png": "[encoded data removed]"
          },
          "metadata": {}
        }
      ]
    },
    {
      "cell_type": "markdown",
      "source": [
        "Testing using a short dictionary"
      ],
      "metadata": {
        "id": "_H4_y2LTDsBB"
      }
    },
    {
      "cell_type": "code",
      "source": [
        "# Assuming your model is named 'xgb_model'\n",
        "fitted_feature_names = xgb_model.feature_names_in_\n",
        "print(fitted_feature_names)\n",
        "# Print feature names from the training data\n",
        "feature_names = X_train.columns\n",
        "print(feature_names)\n"
      ],
      "metadata": {
        "colab": {
          "base_uri": "https://localhost:8080/"
        },
        "id": "rwDS2IkLXLoQ",
        "outputId": "c8b18031-94fe-4096-9c0d-bb7646500645"
      },
      "execution_count": null,
      "outputs": [
        {
          "output_type": "stream",
          "name": "stdout",
          "text": [
            "['acidity' 'back_pain' 'bladder_discomfort' 'breathlessness'\n",
            " 'burning_micturition' 'chest_pain' 'chills' 'constipation'\n",
            " 'continuous_sneezing' 'cough' 'cramps' 'fatigue' 'headache' 'high_fever'\n",
            " 'indigestion' 'joint_pain' 'mood_swings' 'muscle_wasting'\n",
            " 'muscle_weakness' 'neck_pain' 'pain_during_bowel_movements'\n",
            " 'patches_in_throat' 'pus_filled_pimples' 'shivering' 'skin_rash'\n",
            " 'stiff_neck' 'stomach_pain' 'sunken_eyes' 'vomiting' 'weakness_in_limbs'\n",
            " 'weight_gain' 'weight_loss' 'yellowish_skin' 'itching' 'abdominal_pain'\n",
            " 'anxiety' 'blackheads' 'blister' 'bruising' 'cold_hands_and_feets'\n",
            " 'dehydration' 'dizziness' 'foul_smell_ofurine' 'knee_pain' 'lethargy'\n",
            " 'loss_of_appetite' 'nausea' 'nodal_skin_eruptions' 'pain_in_anal_region'\n",
            " 'restlessness' 'skin_peeling' 'sweating' 'swelling_joints'\n",
            " 'ulcers_on_tongue' 'weakness_of_one_body_side' 'altered_sensorium'\n",
            " 'bloody_stool' 'blurred_and_distorted_vision' 'continuous_feel_of_urine'\n",
            " 'dark_urine' 'diarrhoea' 'dischromic_patches' 'extra_marital_contacts'\n",
            " 'hip_joint_pain' 'loss_of_balance' 'movement_stiffness' 'obesity'\n",
            " 'red_sore_around_nose' 'scurring' 'silver_like_dusting'\n",
            " 'spinning_movements' 'swelling_of_stomach' 'watering_from_eyes'\n",
            " 'distention_of_abdomen' 'excessive_hunger' 'family_history'\n",
            " 'irregular_sugar_level' 'irritation_in_anus' 'lack_of_concentration'\n",
            " 'painful_walking' 'passage_of_gases' 'small_dents_in_nails'\n",
            " 'spotting_urination' 'swollen_legs' 'yellow_crust_ooze'\n",
            " 'yellowing_of_eyes' 'None' 'history_of_alcohol_consumption'\n",
            " 'inflammatory_nails' 'internal_itching' 'mucoid_sputum'\n",
            " 'swollen_blood_vessels' 'unsteadiness' 'depression' 'fast_heart_rate'\n",
            " 'fluid_overload' 'malaise' 'prominent_veins_on_calf'\n",
            " 'puffy_face_and_eyes' 'swelled_lymph_nodes' 'enlarged_thyroid'\n",
            " 'irritability' 'mild_fever' 'muscle_pain' 'phlegm' 'yellow_urine'\n",
            " 'brittle_nails' 'drying_and_tingling_lips' 'increased_appetite'\n",
            " 'visual_disturbances' 'pain_behind_the_eyes' 'polyuria' 'slurred_speech'\n",
            " 'swollen_extremeties' 'throat_irritation' 'toxic_look_(typhos)'\n",
            " 'abnormal_menstruation' 'acute_liver_failure' 'belly_pain'\n",
            " 'receiving_blood_transfusion' 'red_spots_over_body' 'redness_of_eyes'\n",
            " 'rusty_sputum' 'coma' 'palpitations' 'receiving_unsterile_injections'\n",
            " 'sinus_pressure' 'runny_nose' 'stomach_bleeding' 'congestion'\n",
            " 'blood_in_sputum' 'loss_of_smell']\n",
            "Index(['acidity', 'back_pain', 'bladder_discomfort', 'breathlessness',\n",
            "       'burning_micturition', 'chest_pain', 'chills', 'constipation',\n",
            "       'continuous_sneezing', 'cough',\n",
            "       ...\n",
            "       'rusty_sputum', 'coma', 'palpitations',\n",
            "       'receiving_unsterile_injections', 'sinus_pressure', 'runny_nose',\n",
            "       'stomach_bleeding', 'congestion', 'blood_in_sputum', 'loss_of_smell'],\n",
            "      dtype='object', length=132)\n"
          ]
        }
      ]
    },
    {
      "cell_type": "code",
      "source": [
        "import pandas as pd\n",
        "\n",
        "# List all symptom columns from your DataFrame\n",
        "all_symptoms = ['acidity', 'back_pain', 'bladder_discomfort', 'breathlessness',\n",
        "'burning_micturition', 'chest_pain', 'chills', 'constipation',\n",
        "'continuous_sneezing', 'cough', 'cramps', 'fatigue', 'headache', 'high_fever',\n",
        "'indigestion', 'joint_pain', 'mood_swings', 'muscle_wasting',\n",
        "'muscle_weakness', 'neck_pain', 'pain_during_bowel_movements',\n",
        "'patches_in_throat', 'pus_filled_pimples', 'shivering', 'skin_rash',\n",
        "'stiff_neck', 'stomach_pain', 'sunken_eyes', 'vomiting', 'weakness_in_limbs',\n",
        "'weight_gain', 'weight_loss', 'yellowish_skin', 'itching', 'abdominal_pain',\n",
        "'anxiety', 'blackheads', 'blister', 'bruising', 'cold_hands_and_feets',\n",
        "'dehydration', 'dizziness', 'foul_smell_ofurine', 'knee_pain', 'lethargy',\n",
        "'loss_of_appetite', 'nausea', 'nodal_skin_eruptions', 'pain_in_anal_region',\n",
        "'restlessness', 'skin_peeling', 'sweating', 'swelling_joints',\n",
        "'ulcers_on_tongue', 'weakness_of_one_body_side', 'altered_sensorium',\n",
        "'bloody_stool', 'blurred_and_distorted_vision', 'continuous_feel_of_urine',\n",
        "'dark_urine', 'diarrhoea', 'dischromic_patches', 'extra_marital_contacts',\n",
        "'hip_joint_pain', 'loss_of_balance', 'movement_stiffness', 'obesity',\n",
        "'red_sore_around_nose', 'scurring', 'silver_like_dusting',\n",
        "'spinning_movements', 'swelling_of_stomach', 'watering_from_eyes',\n",
        "'distention_of_abdomen', 'excessive_hunger', 'family_history',\n",
        "'irregular_sugar_level', 'irritation_in_anus', 'lack_of_concentration',\n",
        "'painful_walking', 'passage_of_gases', 'small_dents_in_nails',\n",
        "'spotting_urination', 'swollen_legs', 'yellow_crust_ooze',\n",
        "'yellowing_of_eyes', 'None', 'history_of_alcohol_consumption',\n",
        "'inflammatory_nails', 'internal_itching', 'mucoid_sputum',\n",
        "'swollen_blood_vessels', 'unsteadiness', 'depression', 'fast_heart_rate',\n",
        "'fluid_overload', 'malaise', 'prominent_veins_on_calf',\n",
        "'puffy_face_and_eyes', 'swelled_lymph_nodes', 'enlarged_thyroid',\n",
        "'irritability', 'mild_fever', 'muscle_pain', 'phlegm', 'yellow_urine',\n",
        "'brittle_nails', 'drying_and_tingling_lips', 'increased_appetite',\n",
        "'visual_disturbances', 'pain_behind_the_eyes', 'polyuria', 'slurred_speech',\n",
        "'swollen_extremeties', 'throat_irritation', 'toxic_look_(typhos)',\n",
        "'abnormal_menstruation', 'acute_liver_failure', 'belly_pain',\n",
        "'receiving_blood_transfusion', 'red_spots_over_body', 'redness_of_eyes',\n",
        "'rusty_sputum', 'coma', 'palpitations', 'receiving_unsterile_injections',\n",
        "'sinus_pressure', 'runny_nose', 'stomach_bleeding', 'congestion',\n",
        "'blood_in_sputum', 'loss_of_smell'\n",
        "]\n",
        "\n",
        "# Function to create input for the model\n",
        "def create_symptom_input(present_symptoms):\n",
        "    # Initialize a dictionary with all symptoms set to 0\n",
        "    symptom_dict = {symptom: 0 for symptom in all_symptoms}\n",
        "\n",
        "    # Set the present symptoms to 1\n",
        "    for symptom in present_symptoms:\n",
        "        if symptom in symptom_dict:\n",
        "            symptom_dict[symptom] = 1\n",
        "        else:\n",
        "            print(f\"Warning: {symptom} is not in the list of symptoms.\")\n",
        "\n",
        "    # Convert the dictionary to a DataFrame\n",
        "    return pd.DataFrame([symptom_dict])\n",
        "\n"
      ],
      "metadata": {
        "id": "MmBe6Y3jXQFJ"
      },
      "execution_count": null,
      "outputs": []
    },
    {
      "cell_type": "code",
      "source": [
        "# Example usage\n",
        "present_symptoms = ['joint_pain', 'knee_pain', 'neck_pain',  'swelling_joints',]  # Add only the present symptoms\n",
        "test_df = create_symptom_input(present_symptoms)\n",
        "predicted_disease = xgb_model.predict(test_df)\n",
        "# Assuming 'le' is your LabelEncoder instance for the Disease column\n",
        "predicted_disease_encoded = predicted_disease[0]\n",
        "print(predicted_disease[0])  # Get the encoded predicted disease\n",
        "predicted_disease_name = le.inverse_transform([predicted_disease_encoded])  # Convert back to the original label\n",
        "\n",
        "# Print the predicted disease name\n",
        "print(f\"Predicted Disease: {predicted_disease_name[0]}\")"
      ],
      "metadata": {
        "colab": {
          "base_uri": "https://localhost:8080/"
        },
        "id": "kuVLR9kcXtaM",
        "outputId": "acc7ed55-2d01-4a0a-9adf-97981da8c4a4"
      },
      "execution_count": null,
      "outputs": [
        {
          "output_type": "stream",
          "name": "stdout",
          "text": [
            "31\n",
            "Predicted Disease: Osteoarthristis\n"
          ]
        }
      ]
    }
  ]
}